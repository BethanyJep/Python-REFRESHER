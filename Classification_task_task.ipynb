{
  "nbformat": 4,
  "nbformat_minor": 0,
  "metadata": {
    "colab": {
      "name": "Classification task task.ipynb",
      "provenance": [],
      "authorship_tag": "ABX9TyMUpLeeK8mnVGNYrC3dHnRq",
      "include_colab_link": true
    },
    "kernelspec": {
      "name": "python3",
      "display_name": "Python 3"
    }
  },
  "cells": [
    {
      "cell_type": "markdown",
      "metadata": {
        "id": "view-in-github",
        "colab_type": "text"
      },
      "source": [
        "<a href=\"https://colab.research.google.com/github/BethanyJep/Python-REFRESHER/blob/master/Classification_task_task.ipynb\" target=\"_parent\"><img src=\"https://colab.research.google.com/assets/colab-badge.svg\" alt=\"Open In Colab\"/></a>"
      ]
    },
    {
      "cell_type": "markdown",
      "metadata": {
        "id": "bb6KHGDkFLas"
      },
      "source": [
        "#Classification task  - Loans"
      ]
    },
    {
      "cell_type": "markdown",
      "metadata": {
        "id": "YOQOduOVFZc7"
      },
      "source": [
        "The data consist of data of customers who were given loans in a given data of data of customers who were given loans in a given customrs who wr givn loans in a givn\n",
        "priod data attributs ar xplaind th customr Loan Status was , , _\n",
        "rcordd.\n",
        "\n",
        "Customers who df data of customers who were given loans in a given aultd ar given \n",
        "\n",
        "Loan task Status _ = 0, Customers who\n",
        "\n",
        "compltd thir paymnts in tim ar givn Loan task Status _ = 1\n",
        "\n",
        "Loan task Status is the outcome variable. outcome outcome variable. variable outcome variable. "
      ]
    },
    {
      "cell_type": "code",
      "metadata": {
        "id": "66l3ueFgi8qW",
        "colab": {
          "base_uri": "https://localhost:8080/"
        },
        "outputId": "dfbe0d6a-2280-47b3-d530-aafb6418a312"
      },
      "source": [
        "import pandas \n",
        "\n",
        "from sklearn.neighbors import KNeighborsClassifier\n",
        "from sklearn.tree import DecisionTreeClassifier\n",
        "from sklearn.naive_bayes import GaussianNB\n",
        "from sklearn.svm import SVC\n",
        "from sklearn.linear_model import LogisticRegression\n",
        "from sklearn.discriminant_analysis import LinearDiscriminantAnalysis\n",
        "from sklearn.ensemble import GradientBoostingClassifier\n",
        "\n",
        "from sklearn.feature_selection import RFE\n",
        "from sklearn.ensemble import RandomForestClassifier\n",
        "\n",
        "from imblearn.over_sampling import SMOTE\n",
        "from sklearn import model_selection\n",
        "from sklearn.metrics import accuracy_score\n",
        "from sklearn.metrics import classification_report\n"
      ],
      "execution_count": 2,
      "outputs": [
        {
          "output_type": "stream",
          "text": [
            "/usr/local/lib/python3.6/dist-packages/sklearn/externals/six.py:31: FutureWarning: The module is deprecated in version 0.21 and will be removed in version 0.23 since we've dropped support for Python 2.7. Please rely on the official version of six (https://pypi.org/project/six/).\n",
            "  \"(https://pypi.org/project/six/).\", FutureWarning)\n",
            "/usr/local/lib/python3.6/dist-packages/sklearn/utils/deprecation.py:144: FutureWarning: The sklearn.neighbors.base module is  deprecated in version 0.22 and will be removed in version 0.24. The corresponding classes / functions should instead be imported from sklearn.neighbors. Anything that cannot be imported from sklearn.neighbors is now part of the private API.\n",
            "  warnings.warn(message, FutureWarning)\n"
          ],
          "name": "stderr"
        }
      ]
    },
    {
      "cell_type": "code",
      "metadata": {
        "colab": {
          "base_uri": "https://localhost:8080/",
          "height": 224
        },
        "id": "r8FXNWI3Y3PV",
        "outputId": "4a2e3faf-71c4-4e46-92a3-105f9bae2a82"
      },
      "source": [
        "df  = pandas.read_csv(\"https://modkenya.com/datascience/datasets/credit_dataset.csv\")\n",
        "df.head()\n"
      ],
      "execution_count": 3,
      "outputs": [
        {
          "output_type": "execute_result",
          "data": {
            "text/html": [
              "<div>\n",
              "<style scoped>\n",
              "    .dataframe tbody tr th:only-of-type {\n",
              "        vertical-align: middle;\n",
              "    }\n",
              "\n",
              "    .dataframe tbody tr th {\n",
              "        vertical-align: top;\n",
              "    }\n",
              "\n",
              "    .dataframe thead th {\n",
              "        text-align: right;\n",
              "    }\n",
              "</style>\n",
              "<table border=\"1\" class=\"dataframe\">\n",
              "  <thead>\n",
              "    <tr style=\"text-align: right;\">\n",
              "      <th></th>\n",
              "      <th>Gender</th>\n",
              "      <th>Married</th>\n",
              "      <th>Dependents</th>\n",
              "      <th>Education</th>\n",
              "      <th>Self_Employed</th>\n",
              "      <th>ApplicantIncome</th>\n",
              "      <th>CoapplicantIncome</th>\n",
              "      <th>LoanAmount</th>\n",
              "      <th>Loan_Term</th>\n",
              "      <th>Credit_History_Available</th>\n",
              "      <th>Housing</th>\n",
              "      <th>Locality</th>\n",
              "      <th>Loan_Status</th>\n",
              "    </tr>\n",
              "  </thead>\n",
              "  <tbody>\n",
              "    <tr>\n",
              "      <th>0</th>\n",
              "      <td>1</td>\n",
              "      <td>0</td>\n",
              "      <td>0</td>\n",
              "      <td>1</td>\n",
              "      <td>0</td>\n",
              "      <td>5849</td>\n",
              "      <td>0</td>\n",
              "      <td>146</td>\n",
              "      <td>360</td>\n",
              "      <td>1</td>\n",
              "      <td>1</td>\n",
              "      <td>1</td>\n",
              "      <td>0</td>\n",
              "    </tr>\n",
              "    <tr>\n",
              "      <th>1</th>\n",
              "      <td>1</td>\n",
              "      <td>1</td>\n",
              "      <td>1</td>\n",
              "      <td>1</td>\n",
              "      <td>1</td>\n",
              "      <td>4583</td>\n",
              "      <td>1508</td>\n",
              "      <td>128</td>\n",
              "      <td>360</td>\n",
              "      <td>1</td>\n",
              "      <td>1</td>\n",
              "      <td>3</td>\n",
              "      <td>1</td>\n",
              "    </tr>\n",
              "    <tr>\n",
              "      <th>2</th>\n",
              "      <td>1</td>\n",
              "      <td>1</td>\n",
              "      <td>0</td>\n",
              "      <td>1</td>\n",
              "      <td>1</td>\n",
              "      <td>3000</td>\n",
              "      <td>0</td>\n",
              "      <td>66</td>\n",
              "      <td>360</td>\n",
              "      <td>1</td>\n",
              "      <td>1</td>\n",
              "      <td>1</td>\n",
              "      <td>1</td>\n",
              "    </tr>\n",
              "    <tr>\n",
              "      <th>3</th>\n",
              "      <td>1</td>\n",
              "      <td>1</td>\n",
              "      <td>0</td>\n",
              "      <td>0</td>\n",
              "      <td>1</td>\n",
              "      <td>2583</td>\n",
              "      <td>2358</td>\n",
              "      <td>120</td>\n",
              "      <td>360</td>\n",
              "      <td>1</td>\n",
              "      <td>1</td>\n",
              "      <td>1</td>\n",
              "      <td>1</td>\n",
              "    </tr>\n",
              "    <tr>\n",
              "      <th>4</th>\n",
              "      <td>1</td>\n",
              "      <td>0</td>\n",
              "      <td>0</td>\n",
              "      <td>1</td>\n",
              "      <td>0</td>\n",
              "      <td>6000</td>\n",
              "      <td>0</td>\n",
              "      <td>141</td>\n",
              "      <td>360</td>\n",
              "      <td>1</td>\n",
              "      <td>1</td>\n",
              "      <td>1</td>\n",
              "      <td>0</td>\n",
              "    </tr>\n",
              "  </tbody>\n",
              "</table>\n",
              "</div>"
            ],
            "text/plain": [
              "   Gender  Married  Dependents  ...  Housing  Locality  Loan_Status\n",
              "0       1        0           0  ...        1         1            0\n",
              "1       1        1           1  ...        1         3            1\n",
              "2       1        1           0  ...        1         1            1\n",
              "3       1        1           0  ...        1         1            1\n",
              "4       1        0           0  ...        1         1            0\n",
              "\n",
              "[5 rows x 13 columns]"
            ]
          },
          "metadata": {
            "tags": []
          },
          "execution_count": 3
        }
      ]
    },
    {
      "cell_type": "code",
      "metadata": {
        "colab": {
          "base_uri": "https://localhost:8080/"
        },
        "id": "lOifHAv6jpsq",
        "outputId": "aa16af08-8b85-449b-8d6b-5e1db9c81564"
      },
      "source": [
        "df.info()"
      ],
      "execution_count": 4,
      "outputs": [
        {
          "output_type": "stream",
          "text": [
            "<class 'pandas.core.frame.DataFrame'>\n",
            "RangeIndex: 827 entries, 0 to 826\n",
            "Data columns (total 13 columns):\n",
            " #   Column                    Non-Null Count  Dtype\n",
            "---  ------                    --------------  -----\n",
            " 0   Gender                    827 non-null    int64\n",
            " 1   Married                   827 non-null    int64\n",
            " 2   Dependents                827 non-null    int64\n",
            " 3   Education                 827 non-null    int64\n",
            " 4   Self_Employed             827 non-null    int64\n",
            " 5   ApplicantIncome           827 non-null    int64\n",
            " 6   CoapplicantIncome         827 non-null    int64\n",
            " 7   LoanAmount                827 non-null    int64\n",
            " 8   Loan_Term                 827 non-null    int64\n",
            " 9   Credit_History_Available  827 non-null    int64\n",
            " 10  Housing                   827 non-null    int64\n",
            " 11  Locality                  827 non-null    int64\n",
            " 12  Loan_Status               827 non-null    int64\n",
            "dtypes: int64(13)\n",
            "memory usage: 84.1 KB\n"
          ],
          "name": "stdout"
        }
      ]
    },
    {
      "cell_type": "code",
      "metadata": {
        "colab": {
          "base_uri": "https://localhost:8080/",
          "height": 472
        },
        "id": "mZd9e_6EjuJ-",
        "outputId": "f8f9a7d6-ad21-4128-91c6-35fa6028338e"
      },
      "source": [
        "df.corr()"
      ],
      "execution_count": 5,
      "outputs": [
        {
          "output_type": "execute_result",
          "data": {
            "text/html": [
              "<div>\n",
              "<style scoped>\n",
              "    .dataframe tbody tr th:only-of-type {\n",
              "        vertical-align: middle;\n",
              "    }\n",
              "\n",
              "    .dataframe tbody tr th {\n",
              "        vertical-align: top;\n",
              "    }\n",
              "\n",
              "    .dataframe thead th {\n",
              "        text-align: right;\n",
              "    }\n",
              "</style>\n",
              "<table border=\"1\" class=\"dataframe\">\n",
              "  <thead>\n",
              "    <tr style=\"text-align: right;\">\n",
              "      <th></th>\n",
              "      <th>Gender</th>\n",
              "      <th>Married</th>\n",
              "      <th>Dependents</th>\n",
              "      <th>Education</th>\n",
              "      <th>Self_Employed</th>\n",
              "      <th>ApplicantIncome</th>\n",
              "      <th>CoapplicantIncome</th>\n",
              "      <th>LoanAmount</th>\n",
              "      <th>Loan_Term</th>\n",
              "      <th>Credit_History_Available</th>\n",
              "      <th>Housing</th>\n",
              "      <th>Locality</th>\n",
              "      <th>Loan_Status</th>\n",
              "    </tr>\n",
              "  </thead>\n",
              "  <tbody>\n",
              "    <tr>\n",
              "      <th>Gender</th>\n",
              "      <td>1.000000</td>\n",
              "      <td>0.355319</td>\n",
              "      <td>0.121868</td>\n",
              "      <td>-0.080883</td>\n",
              "      <td>0.256583</td>\n",
              "      <td>0.010382</td>\n",
              "      <td>0.116468</td>\n",
              "      <td>0.089613</td>\n",
              "      <td>-0.074194</td>\n",
              "      <td>-0.019499</td>\n",
              "      <td>-0.006226</td>\n",
              "      <td>-0.002798</td>\n",
              "      <td>0.309570</td>\n",
              "    </tr>\n",
              "    <tr>\n",
              "      <th>Married</th>\n",
              "      <td>0.355319</td>\n",
              "      <td>1.000000</td>\n",
              "      <td>0.375512</td>\n",
              "      <td>-0.034168</td>\n",
              "      <td>0.829158</td>\n",
              "      <td>0.071710</td>\n",
              "      <td>0.106108</td>\n",
              "      <td>0.175254</td>\n",
              "      <td>-0.108588</td>\n",
              "      <td>-0.085615</td>\n",
              "      <td>-0.093419</td>\n",
              "      <td>-0.019892</td>\n",
              "      <td>0.825064</td>\n",
              "    </tr>\n",
              "    <tr>\n",
              "      <th>Dependents</th>\n",
              "      <td>0.121868</td>\n",
              "      <td>0.375512</td>\n",
              "      <td>1.000000</td>\n",
              "      <td>-0.025549</td>\n",
              "      <td>0.349978</td>\n",
              "      <td>0.130331</td>\n",
              "      <td>0.026961</td>\n",
              "      <td>0.182559</td>\n",
              "      <td>-0.050031</td>\n",
              "      <td>-0.085019</td>\n",
              "      <td>-0.022433</td>\n",
              "      <td>-0.012152</td>\n",
              "      <td>0.315421</td>\n",
              "    </tr>\n",
              "    <tr>\n",
              "      <th>Education</th>\n",
              "      <td>-0.080883</td>\n",
              "      <td>-0.034168</td>\n",
              "      <td>-0.025549</td>\n",
              "      <td>1.000000</td>\n",
              "      <td>-0.027868</td>\n",
              "      <td>0.127969</td>\n",
              "      <td>0.050707</td>\n",
              "      <td>0.154714</td>\n",
              "      <td>0.109241</td>\n",
              "      <td>0.057124</td>\n",
              "      <td>0.001073</td>\n",
              "      <td>-0.103206</td>\n",
              "      <td>-0.037406</td>\n",
              "    </tr>\n",
              "    <tr>\n",
              "      <th>Self_Employed</th>\n",
              "      <td>0.256583</td>\n",
              "      <td>0.829158</td>\n",
              "      <td>0.349978</td>\n",
              "      <td>-0.027868</td>\n",
              "      <td>1.000000</td>\n",
              "      <td>0.138274</td>\n",
              "      <td>0.078241</td>\n",
              "      <td>0.229533</td>\n",
              "      <td>-0.104434</td>\n",
              "      <td>-0.049356</td>\n",
              "      <td>-0.106595</td>\n",
              "      <td>-0.049677</td>\n",
              "      <td>0.688170</td>\n",
              "    </tr>\n",
              "    <tr>\n",
              "      <th>ApplicantIncome</th>\n",
              "      <td>0.010382</td>\n",
              "      <td>0.071710</td>\n",
              "      <td>0.130331</td>\n",
              "      <td>0.127969</td>\n",
              "      <td>0.138274</td>\n",
              "      <td>1.000000</td>\n",
              "      <td>-0.120363</td>\n",
              "      <td>0.564923</td>\n",
              "      <td>-0.004199</td>\n",
              "      <td>-0.022038</td>\n",
              "      <td>-0.049480</td>\n",
              "      <td>-0.018499</td>\n",
              "      <td>0.066347</td>\n",
              "    </tr>\n",
              "    <tr>\n",
              "      <th>CoapplicantIncome</th>\n",
              "      <td>0.116468</td>\n",
              "      <td>0.106108</td>\n",
              "      <td>0.026961</td>\n",
              "      <td>0.050707</td>\n",
              "      <td>0.078241</td>\n",
              "      <td>-0.120363</td>\n",
              "      <td>1.000000</td>\n",
              "      <td>0.165940</td>\n",
              "      <td>-0.054756</td>\n",
              "      <td>-0.035843</td>\n",
              "      <td>-0.018713</td>\n",
              "      <td>0.003190</td>\n",
              "      <td>0.120304</td>\n",
              "    </tr>\n",
              "    <tr>\n",
              "      <th>LoanAmount</th>\n",
              "      <td>0.089613</td>\n",
              "      <td>0.175254</td>\n",
              "      <td>0.182559</td>\n",
              "      <td>0.154714</td>\n",
              "      <td>0.229533</td>\n",
              "      <td>0.564923</td>\n",
              "      <td>0.165940</td>\n",
              "      <td>1.000000</td>\n",
              "      <td>0.073583</td>\n",
              "      <td>-0.024920</td>\n",
              "      <td>-0.084477</td>\n",
              "      <td>0.022021</td>\n",
              "      <td>0.164087</td>\n",
              "    </tr>\n",
              "    <tr>\n",
              "      <th>Loan_Term</th>\n",
              "      <td>-0.074194</td>\n",
              "      <td>-0.108588</td>\n",
              "      <td>-0.050031</td>\n",
              "      <td>0.109241</td>\n",
              "      <td>-0.104434</td>\n",
              "      <td>-0.004199</td>\n",
              "      <td>-0.054756</td>\n",
              "      <td>0.073583</td>\n",
              "      <td>1.000000</td>\n",
              "      <td>0.076045</td>\n",
              "      <td>0.026219</td>\n",
              "      <td>0.084809</td>\n",
              "      <td>-0.097339</td>\n",
              "    </tr>\n",
              "    <tr>\n",
              "      <th>Credit_History_Available</th>\n",
              "      <td>-0.019499</td>\n",
              "      <td>-0.085615</td>\n",
              "      <td>-0.085019</td>\n",
              "      <td>0.057124</td>\n",
              "      <td>-0.049356</td>\n",
              "      <td>-0.022038</td>\n",
              "      <td>-0.035843</td>\n",
              "      <td>-0.024920</td>\n",
              "      <td>0.076045</td>\n",
              "      <td>1.000000</td>\n",
              "      <td>0.017112</td>\n",
              "      <td>-0.005251</td>\n",
              "      <td>-0.239512</td>\n",
              "    </tr>\n",
              "    <tr>\n",
              "      <th>Housing</th>\n",
              "      <td>-0.006226</td>\n",
              "      <td>-0.093419</td>\n",
              "      <td>-0.022433</td>\n",
              "      <td>0.001073</td>\n",
              "      <td>-0.106595</td>\n",
              "      <td>-0.049480</td>\n",
              "      <td>-0.018713</td>\n",
              "      <td>-0.084477</td>\n",
              "      <td>0.026219</td>\n",
              "      <td>0.017112</td>\n",
              "      <td>1.000000</td>\n",
              "      <td>0.071800</td>\n",
              "      <td>-0.082534</td>\n",
              "    </tr>\n",
              "    <tr>\n",
              "      <th>Locality</th>\n",
              "      <td>-0.002798</td>\n",
              "      <td>-0.019892</td>\n",
              "      <td>-0.012152</td>\n",
              "      <td>-0.103206</td>\n",
              "      <td>-0.049677</td>\n",
              "      <td>-0.018499</td>\n",
              "      <td>0.003190</td>\n",
              "      <td>0.022021</td>\n",
              "      <td>0.084809</td>\n",
              "      <td>-0.005251</td>\n",
              "      <td>0.071800</td>\n",
              "      <td>1.000000</td>\n",
              "      <td>-0.030530</td>\n",
              "    </tr>\n",
              "    <tr>\n",
              "      <th>Loan_Status</th>\n",
              "      <td>0.309570</td>\n",
              "      <td>0.825064</td>\n",
              "      <td>0.315421</td>\n",
              "      <td>-0.037406</td>\n",
              "      <td>0.688170</td>\n",
              "      <td>0.066347</td>\n",
              "      <td>0.120304</td>\n",
              "      <td>0.164087</td>\n",
              "      <td>-0.097339</td>\n",
              "      <td>-0.239512</td>\n",
              "      <td>-0.082534</td>\n",
              "      <td>-0.030530</td>\n",
              "      <td>1.000000</td>\n",
              "    </tr>\n",
              "  </tbody>\n",
              "</table>\n",
              "</div>"
            ],
            "text/plain": [
              "                            Gender   Married  ...  Locality  Loan_Status\n",
              "Gender                    1.000000  0.355319  ... -0.002798     0.309570\n",
              "Married                   0.355319  1.000000  ... -0.019892     0.825064\n",
              "Dependents                0.121868  0.375512  ... -0.012152     0.315421\n",
              "Education                -0.080883 -0.034168  ... -0.103206    -0.037406\n",
              "Self_Employed             0.256583  0.829158  ... -0.049677     0.688170\n",
              "ApplicantIncome           0.010382  0.071710  ... -0.018499     0.066347\n",
              "CoapplicantIncome         0.116468  0.106108  ...  0.003190     0.120304\n",
              "LoanAmount                0.089613  0.175254  ...  0.022021     0.164087\n",
              "Loan_Term                -0.074194 -0.108588  ...  0.084809    -0.097339\n",
              "Credit_History_Available -0.019499 -0.085615  ... -0.005251    -0.239512\n",
              "Housing                  -0.006226 -0.093419  ...  0.071800    -0.082534\n",
              "Locality                 -0.002798 -0.019892  ...  1.000000    -0.030530\n",
              "Loan_Status               0.309570  0.825064  ... -0.030530     1.000000\n",
              "\n",
              "[13 rows x 13 columns]"
            ]
          },
          "metadata": {
            "tags": []
          },
          "execution_count": 5
        }
      ]
    },
    {
      "cell_type": "code",
      "metadata": {
        "colab": {
          "base_uri": "https://localhost:8080/",
          "height": 317
        },
        "id": "0NJR_FkOjvU0",
        "outputId": "9812c0e8-7295-4eda-80fb-a50bdf0427e7"
      },
      "source": [
        "df.describe()"
      ],
      "execution_count": 6,
      "outputs": [
        {
          "output_type": "execute_result",
          "data": {
            "text/html": [
              "<div>\n",
              "<style scoped>\n",
              "    .dataframe tbody tr th:only-of-type {\n",
              "        vertical-align: middle;\n",
              "    }\n",
              "\n",
              "    .dataframe tbody tr th {\n",
              "        vertical-align: top;\n",
              "    }\n",
              "\n",
              "    .dataframe thead th {\n",
              "        text-align: right;\n",
              "    }\n",
              "</style>\n",
              "<table border=\"1\" class=\"dataframe\">\n",
              "  <thead>\n",
              "    <tr style=\"text-align: right;\">\n",
              "      <th></th>\n",
              "      <th>Gender</th>\n",
              "      <th>Married</th>\n",
              "      <th>Dependents</th>\n",
              "      <th>Education</th>\n",
              "      <th>Self_Employed</th>\n",
              "      <th>ApplicantIncome</th>\n",
              "      <th>CoapplicantIncome</th>\n",
              "      <th>LoanAmount</th>\n",
              "      <th>Loan_Term</th>\n",
              "      <th>Credit_History_Available</th>\n",
              "      <th>Housing</th>\n",
              "      <th>Locality</th>\n",
              "      <th>Loan_Status</th>\n",
              "    </tr>\n",
              "  </thead>\n",
              "  <tbody>\n",
              "    <tr>\n",
              "      <th>count</th>\n",
              "      <td>827.000000</td>\n",
              "      <td>827.000000</td>\n",
              "      <td>827.000000</td>\n",
              "      <td>827.000000</td>\n",
              "      <td>827.000000</td>\n",
              "      <td>827.000000</td>\n",
              "      <td>827.000000</td>\n",
              "      <td>827.000000</td>\n",
              "      <td>827.000000</td>\n",
              "      <td>827.000000</td>\n",
              "      <td>827.000000</td>\n",
              "      <td>827.000000</td>\n",
              "      <td>827.000000</td>\n",
              "    </tr>\n",
              "    <tr>\n",
              "      <th>mean</th>\n",
              "      <td>0.733978</td>\n",
              "      <td>0.481258</td>\n",
              "      <td>0.652963</td>\n",
              "      <td>0.790810</td>\n",
              "      <td>0.574365</td>\n",
              "      <td>5212.970979</td>\n",
              "      <td>1486.050786</td>\n",
              "      <td>140.892382</td>\n",
              "      <td>338.128174</td>\n",
              "      <td>0.885127</td>\n",
              "      <td>0.654172</td>\n",
              "      <td>1.978235</td>\n",
              "      <td>0.576784</td>\n",
              "    </tr>\n",
              "    <tr>\n",
              "      <th>std</th>\n",
              "      <td>0.442143</td>\n",
              "      <td>0.499951</td>\n",
              "      <td>0.935835</td>\n",
              "      <td>0.406976</td>\n",
              "      <td>0.494738</td>\n",
              "      <td>5593.713304</td>\n",
              "      <td>2802.847983</td>\n",
              "      <td>79.820451</td>\n",
              "      <td>75.353151</td>\n",
              "      <td>0.319062</td>\n",
              "      <td>0.475925</td>\n",
              "      <td>0.771471</td>\n",
              "      <td>0.494368</td>\n",
              "    </tr>\n",
              "    <tr>\n",
              "      <th>min</th>\n",
              "      <td>0.000000</td>\n",
              "      <td>0.000000</td>\n",
              "      <td>0.000000</td>\n",
              "      <td>0.000000</td>\n",
              "      <td>0.000000</td>\n",
              "      <td>150.000000</td>\n",
              "      <td>0.000000</td>\n",
              "      <td>9.000000</td>\n",
              "      <td>12.000000</td>\n",
              "      <td>0.000000</td>\n",
              "      <td>0.000000</td>\n",
              "      <td>1.000000</td>\n",
              "      <td>0.000000</td>\n",
              "    </tr>\n",
              "    <tr>\n",
              "      <th>25%</th>\n",
              "      <td>0.000000</td>\n",
              "      <td>0.000000</td>\n",
              "      <td>0.000000</td>\n",
              "      <td>1.000000</td>\n",
              "      <td>0.000000</td>\n",
              "      <td>2894.500000</td>\n",
              "      <td>0.000000</td>\n",
              "      <td>100.000000</td>\n",
              "      <td>360.000000</td>\n",
              "      <td>1.000000</td>\n",
              "      <td>0.000000</td>\n",
              "      <td>1.000000</td>\n",
              "      <td>0.000000</td>\n",
              "    </tr>\n",
              "    <tr>\n",
              "      <th>50%</th>\n",
              "      <td>1.000000</td>\n",
              "      <td>0.000000</td>\n",
              "      <td>0.000000</td>\n",
              "      <td>1.000000</td>\n",
              "      <td>1.000000</td>\n",
              "      <td>3752.000000</td>\n",
              "      <td>0.000000</td>\n",
              "      <td>125.000000</td>\n",
              "      <td>360.000000</td>\n",
              "      <td>1.000000</td>\n",
              "      <td>1.000000</td>\n",
              "      <td>2.000000</td>\n",
              "      <td>1.000000</td>\n",
              "    </tr>\n",
              "    <tr>\n",
              "      <th>75%</th>\n",
              "      <td>1.000000</td>\n",
              "      <td>1.000000</td>\n",
              "      <td>1.000000</td>\n",
              "      <td>1.000000</td>\n",
              "      <td>1.000000</td>\n",
              "      <td>5478.000000</td>\n",
              "      <td>2177.000000</td>\n",
              "      <td>156.500000</td>\n",
              "      <td>360.000000</td>\n",
              "      <td>1.000000</td>\n",
              "      <td>1.000000</td>\n",
              "      <td>3.000000</td>\n",
              "      <td>1.000000</td>\n",
              "    </tr>\n",
              "    <tr>\n",
              "      <th>max</th>\n",
              "      <td>1.000000</td>\n",
              "      <td>1.000000</td>\n",
              "      <td>3.000000</td>\n",
              "      <td>1.000000</td>\n",
              "      <td>1.000000</td>\n",
              "      <td>81000.000000</td>\n",
              "      <td>41667.000000</td>\n",
              "      <td>700.000000</td>\n",
              "      <td>480.000000</td>\n",
              "      <td>1.000000</td>\n",
              "      <td>1.000000</td>\n",
              "      <td>3.000000</td>\n",
              "      <td>1.000000</td>\n",
              "    </tr>\n",
              "  </tbody>\n",
              "</table>\n",
              "</div>"
            ],
            "text/plain": [
              "           Gender     Married  Dependents  ...     Housing    Locality  Loan_Status\n",
              "count  827.000000  827.000000  827.000000  ...  827.000000  827.000000   827.000000\n",
              "mean     0.733978    0.481258    0.652963  ...    0.654172    1.978235     0.576784\n",
              "std      0.442143    0.499951    0.935835  ...    0.475925    0.771471     0.494368\n",
              "min      0.000000    0.000000    0.000000  ...    0.000000    1.000000     0.000000\n",
              "25%      0.000000    0.000000    0.000000  ...    0.000000    1.000000     0.000000\n",
              "50%      1.000000    0.000000    0.000000  ...    1.000000    2.000000     1.000000\n",
              "75%      1.000000    1.000000    1.000000  ...    1.000000    3.000000     1.000000\n",
              "max      1.000000    1.000000    3.000000  ...    1.000000    3.000000     1.000000\n",
              "\n",
              "[8 rows x 13 columns]"
            ]
          },
          "metadata": {
            "tags": []
          },
          "execution_count": 6
        }
      ]
    },
    {
      "cell_type": "code",
      "metadata": {
        "id": "E_k8P5G3j1Kg"
      },
      "source": [
        "\n",
        "# step 1\n",
        "array = df.values\n",
        "X = array[:, 0:10]\n",
        "Y = array[:,10]\n",
        "\n",
        "# Step 2: split X, Y into 2 parts , training/testing\n",
        "X_train, X_test, Y_train, Y_test = model_selection.train_test_split(X,Y, test_size = 0.30, random_state=42)\n"
      ],
      "execution_count": 7,
      "outputs": []
    },
    {
      "cell_type": "code",
      "metadata": {
        "id": "HNYtEVzhj-pi"
      },
      "source": [
        "# Spot Check Algorithms\n",
        "models = []\n",
        "models.append(('LR', LogisticRegression(solver='liblinear', multi_class='ovr')))\n",
        "models.append(('LDA', LinearDiscriminantAnalysis()))\n",
        "models.append(('KNN', KNeighborsClassifier()))\n",
        "models.append(('CART', DecisionTreeClassifier()))\n",
        "models.append(('NB', GaussianNB()))\n",
        "models.append(('SVM', SVC(gamma='auto')))\n"
      ],
      "execution_count": 8,
      "outputs": []
    },
    {
      "cell_type": "code",
      "metadata": {
        "colab": {
          "base_uri": "https://localhost:8080/"
        },
        "id": "po7A7mTzkJHl",
        "outputId": "29d2b5b5-fe9e-4883-e794-6ab529156678"
      },
      "source": [
        "# evaluate each model in turn\n",
        "\n",
        "for name, model in models:\n",
        "      kfold = model_selection.KFold(n_splits=10, random_state=62)\n",
        "      cv_results = model_selection.cross_val_score(model, X_train, Y_train, cv=kfold, scoring='accuracy')\n",
        "      print(name, cv_results.mean())"
      ],
      "execution_count": 9,
      "outputs": [
        {
          "output_type": "stream",
          "text": [
            "LR 0.6434361766485178\n",
            "LDA 0.646854204476709\n"
          ],
          "name": "stdout"
        },
        {
          "output_type": "stream",
          "text": [
            "/usr/local/lib/python3.6/dist-packages/sklearn/model_selection/_split.py:296: FutureWarning: Setting a random_state has no effect since shuffle is False. This will raise an error in 0.24. You should leave random_state to its default (None), or set shuffle=True.\n",
            "  FutureWarning\n",
            "/usr/local/lib/python3.6/dist-packages/sklearn/model_selection/_split.py:296: FutureWarning: Setting a random_state has no effect since shuffle is False. This will raise an error in 0.24. You should leave random_state to its default (None), or set shuffle=True.\n",
            "  FutureWarning\n",
            "/usr/local/lib/python3.6/dist-packages/sklearn/model_selection/_split.py:296: FutureWarning: Setting a random_state has no effect since shuffle is False. This will raise an error in 0.24. You should leave random_state to its default (None), or set shuffle=True.\n",
            "  FutureWarning\n",
            "/usr/local/lib/python3.6/dist-packages/sklearn/model_selection/_split.py:296: FutureWarning: Setting a random_state has no effect since shuffle is False. This will raise an error in 0.24. You should leave random_state to its default (None), or set shuffle=True.\n",
            "  FutureWarning\n",
            "/usr/local/lib/python3.6/dist-packages/sklearn/model_selection/_split.py:296: FutureWarning: Setting a random_state has no effect since shuffle is False. This will raise an error in 0.24. You should leave random_state to its default (None), or set shuffle=True.\n",
            "  FutureWarning\n",
            "/usr/local/lib/python3.6/dist-packages/sklearn/model_selection/_split.py:296: FutureWarning: Setting a random_state has no effect since shuffle is False. This will raise an error in 0.24. You should leave random_state to its default (None), or set shuffle=True.\n",
            "  FutureWarning\n"
          ],
          "name": "stderr"
        },
        {
          "output_type": "stream",
          "text": [
            "KNN 0.6434966727162734\n",
            "CART 0.6038717483363581\n",
            "NB 0.63832425892317\n",
            "SVM 0.6520568663036903\n"
          ],
          "name": "stdout"
        }
      ]
    },
    {
      "cell_type": "code",
      "metadata": {
        "id": "hFjzxp4qkNFZ"
      },
      "source": [
        "model = LinearDiscriminantAnalysis()\n",
        "model.fit(X_train,Y_train)\n",
        "\n",
        "# ask the model to predict the xtest as you hide the y -test\n",
        "predictions = model.predict(X_test)"
      ],
      "execution_count": 10,
      "outputs": []
    },
    {
      "cell_type": "code",
      "metadata": {
        "colab": {
          "base_uri": "https://localhost:8080/"
        },
        "id": "vyB48_iFkpcw",
        "outputId": "464addba-da82-4cc4-a8c1-bab1963573ac"
      },
      "source": [
        "# check accuracy score\n",
        "print(accuracy_score(Y_test, predictions))"
      ],
      "execution_count": 11,
      "outputs": [
        {
          "output_type": "stream",
          "text": [
            "0.6465863453815262\n"
          ],
          "name": "stdout"
        }
      ]
    },
    {
      "cell_type": "code",
      "metadata": {
        "colab": {
          "base_uri": "https://localhost:8080/"
        },
        "id": "0zW9FxiZfBc_",
        "outputId": "fddb0cf3-f764-4493-94a4-b1a2781b4905"
      },
      "source": [
        "# check classification report score\n",
        "print(classification_report(Y_test, predictions))"
      ],
      "execution_count": 12,
      "outputs": [
        {
          "output_type": "stream",
          "text": [
            "              precision    recall  f1-score   support\n",
            "\n",
            "           0       0.29      0.02      0.04        85\n",
            "           1       0.66      0.97      0.78       164\n",
            "\n",
            "    accuracy                           0.65       249\n",
            "   macro avg       0.47      0.50      0.41       249\n",
            "weighted avg       0.53      0.65      0.53       249\n",
            "\n"
          ],
          "name": "stdout"
        }
      ]
    },
    {
      "cell_type": "code",
      "metadata": {
        "colab": {
          "base_uri": "https://localhost:8080/"
        },
        "id": "Klp1sK3qlvin",
        "outputId": "5766070f-6a68-4589-c560-4517197262c5"
      },
      "source": [
        "# Feature Elimination  - This will get the top  5 features that affect the outcome diabetes\n",
        "random_forest = RandomForestClassifier()\n",
        "# now use RFE with random forest\n",
        "rfe = RFE(random_forest, n_features_to_select=5)\n",
        "# fit X, Y into rfe\n",
        "rfe_fit = rfe.fit(X,Y)\n",
        "\n",
        "# Show the features, they are shown as True\n",
        "print('Number of features', rfe_fit.n_features_)\n",
        "print('Top  4 features affecting outcome', rfe_fit.support_)"
      ],
      "execution_count": 13,
      "outputs": [
        {
          "output_type": "stream",
          "text": [
            "Number of features 5\n",
            "Top  4 features affecting outcome [False False  True False False  True  True  True  True False]\n"
          ],
          "name": "stdout"
        }
      ]
    },
    {
      "cell_type": "code",
      "metadata": {
        "id": "HurLWsRhm4EC"
      },
      "source": [
        ""
      ],
      "execution_count": 16,
      "outputs": []
    }
  ]
}